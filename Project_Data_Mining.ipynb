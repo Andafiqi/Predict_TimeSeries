{
  "cells": [
    {
      "cell_type": "markdown",
      "metadata": {
        "id": "yuEnrAt27OM_"
      },
      "source": [
        "#Menambahkan library"
      ]
    },
    {
      "cell_type": "code",
      "execution_count": 61,
      "metadata": {
        "id": "2L81jdVVvri1"
      },
      "outputs": [],
      "source": [
        "import pandas as pd\n",
        "import numpy as np\n",
        "import matplotlib.pyplot as plt\n",
        "import seaborn as sns\n",
        "\n",
        "\n",
        "from sklearn.ensemble import RandomForestRegressor\n",
        "from sklearn.metrics import mean_squared_error, mean_absolute_error\n",
        "from sklearn.metrics import r2_score\n",
        "from sklearn.model_selection import train_test_split\n",
        "from sklearn.svm import SVR\n"
      ]
    },
    {
      "cell_type": "markdown",
      "metadata": {
        "id": "0jr_BBdSTBfz"
      },
      "source": [
        "#Mengambil Data"
      ]
    },
    {
      "cell_type": "code",
      "execution_count": 62,
      "metadata": {
        "id": "pi09pXFLKP0K"
      },
      "outputs": [],
      "source": [
        "df = pd.read_csv(\"mental-illnesses-prevalence.csv\")"
      ]
    },
    {
      "cell_type": "code",
      "execution_count": 63,
      "metadata": {
        "colab": {
          "base_uri": "https://localhost:8080/"
        },
        "id": "eMq1pofMKQJ6",
        "outputId": "eb910f1d-d790-47f4-d901-7a831ef9b5c1"
      },
      "outputs": [
        {
          "data": {
            "text/html": [
              "<div>\n",
              "<style scoped>\n",
              "    .dataframe tbody tr th:only-of-type {\n",
              "        vertical-align: middle;\n",
              "    }\n",
              "\n",
              "    .dataframe tbody tr th {\n",
              "        vertical-align: top;\n",
              "    }\n",
              "\n",
              "    .dataframe thead th {\n",
              "        text-align: right;\n",
              "    }\n",
              "</style>\n",
              "<table border=\"1\" class=\"dataframe\">\n",
              "  <thead>\n",
              "    <tr style=\"text-align: right;\">\n",
              "      <th></th>\n",
              "      <th>Entity</th>\n",
              "      <th>Code</th>\n",
              "      <th>Year</th>\n",
              "      <th>Schizophrenia_disorders</th>\n",
              "      <th>Depressive_disorders</th>\n",
              "      <th>Anxiety_disorders</th>\n",
              "      <th>Bipolar_disorders</th>\n",
              "      <th>Eating_disorders</th>\n",
              "    </tr>\n",
              "  </thead>\n",
              "  <tbody>\n",
              "    <tr>\n",
              "      <th>0</th>\n",
              "      <td>Afghanistan</td>\n",
              "      <td>AFG</td>\n",
              "      <td>1990</td>\n",
              "      <td>0.223206</td>\n",
              "      <td>4.996118</td>\n",
              "      <td>4.713314</td>\n",
              "      <td>0.703023</td>\n",
              "      <td>0.127700</td>\n",
              "    </tr>\n",
              "    <tr>\n",
              "      <th>1</th>\n",
              "      <td>Afghanistan</td>\n",
              "      <td>AFG</td>\n",
              "      <td>1991</td>\n",
              "      <td>0.222454</td>\n",
              "      <td>4.989290</td>\n",
              "      <td>4.702100</td>\n",
              "      <td>0.702069</td>\n",
              "      <td>0.123256</td>\n",
              "    </tr>\n",
              "    <tr>\n",
              "      <th>2</th>\n",
              "      <td>Afghanistan</td>\n",
              "      <td>AFG</td>\n",
              "      <td>1992</td>\n",
              "      <td>0.221751</td>\n",
              "      <td>4.981346</td>\n",
              "      <td>4.683743</td>\n",
              "      <td>0.700792</td>\n",
              "      <td>0.118844</td>\n",
              "    </tr>\n",
              "    <tr>\n",
              "      <th>3</th>\n",
              "      <td>Afghanistan</td>\n",
              "      <td>AFG</td>\n",
              "      <td>1993</td>\n",
              "      <td>0.220987</td>\n",
              "      <td>4.976958</td>\n",
              "      <td>4.673549</td>\n",
              "      <td>0.700087</td>\n",
              "      <td>0.115089</td>\n",
              "    </tr>\n",
              "    <tr>\n",
              "      <th>4</th>\n",
              "      <td>Afghanistan</td>\n",
              "      <td>AFG</td>\n",
              "      <td>1994</td>\n",
              "      <td>0.220183</td>\n",
              "      <td>4.977782</td>\n",
              "      <td>4.670810</td>\n",
              "      <td>0.699898</td>\n",
              "      <td>0.111815</td>\n",
              "    </tr>\n",
              "    <tr>\n",
              "      <th>...</th>\n",
              "      <td>...</td>\n",
              "      <td>...</td>\n",
              "      <td>...</td>\n",
              "      <td>...</td>\n",
              "      <td>...</td>\n",
              "      <td>...</td>\n",
              "      <td>...</td>\n",
              "      <td>...</td>\n",
              "    </tr>\n",
              "    <tr>\n",
              "      <th>6415</th>\n",
              "      <td>Zimbabwe</td>\n",
              "      <td>ZWE</td>\n",
              "      <td>2015</td>\n",
              "      <td>0.201042</td>\n",
              "      <td>3.407624</td>\n",
              "      <td>3.184012</td>\n",
              "      <td>0.538596</td>\n",
              "      <td>0.095652</td>\n",
              "    </tr>\n",
              "    <tr>\n",
              "      <th>6416</th>\n",
              "      <td>Zimbabwe</td>\n",
              "      <td>ZWE</td>\n",
              "      <td>2016</td>\n",
              "      <td>0.201319</td>\n",
              "      <td>3.410755</td>\n",
              "      <td>3.187148</td>\n",
              "      <td>0.538593</td>\n",
              "      <td>0.096662</td>\n",
              "    </tr>\n",
              "    <tr>\n",
              "      <th>6417</th>\n",
              "      <td>Zimbabwe</td>\n",
              "      <td>ZWE</td>\n",
              "      <td>2017</td>\n",
              "      <td>0.201639</td>\n",
              "      <td>3.411965</td>\n",
              "      <td>3.188418</td>\n",
              "      <td>0.538589</td>\n",
              "      <td>0.097330</td>\n",
              "    </tr>\n",
              "    <tr>\n",
              "      <th>6418</th>\n",
              "      <td>Zimbabwe</td>\n",
              "      <td>ZWE</td>\n",
              "      <td>2018</td>\n",
              "      <td>0.201976</td>\n",
              "      <td>3.406929</td>\n",
              "      <td>3.172111</td>\n",
              "      <td>0.538585</td>\n",
              "      <td>0.097909</td>\n",
              "    </tr>\n",
              "    <tr>\n",
              "      <th>6419</th>\n",
              "      <td>Zimbabwe</td>\n",
              "      <td>ZWE</td>\n",
              "      <td>2019</td>\n",
              "      <td>0.202482</td>\n",
              "      <td>3.395476</td>\n",
              "      <td>3.137017</td>\n",
              "      <td>0.538580</td>\n",
              "      <td>0.098295</td>\n",
              "    </tr>\n",
              "  </tbody>\n",
              "</table>\n",
              "<p>6420 rows × 8 columns</p>\n",
              "</div>"
            ],
            "text/plain": [
              "           Entity Code  Year  Schizophrenia_disorders  Depressive_disorders  \\\n",
              "0     Afghanistan  AFG  1990                 0.223206              4.996118   \n",
              "1     Afghanistan  AFG  1991                 0.222454              4.989290   \n",
              "2     Afghanistan  AFG  1992                 0.221751              4.981346   \n",
              "3     Afghanistan  AFG  1993                 0.220987              4.976958   \n",
              "4     Afghanistan  AFG  1994                 0.220183              4.977782   \n",
              "...           ...  ...   ...                      ...                   ...   \n",
              "6415     Zimbabwe  ZWE  2015                 0.201042              3.407624   \n",
              "6416     Zimbabwe  ZWE  2016                 0.201319              3.410755   \n",
              "6417     Zimbabwe  ZWE  2017                 0.201639              3.411965   \n",
              "6418     Zimbabwe  ZWE  2018                 0.201976              3.406929   \n",
              "6419     Zimbabwe  ZWE  2019                 0.202482              3.395476   \n",
              "\n",
              "      Anxiety_disorders  Bipolar_disorders  Eating_disorders  \n",
              "0              4.713314           0.703023          0.127700  \n",
              "1              4.702100           0.702069          0.123256  \n",
              "2              4.683743           0.700792          0.118844  \n",
              "3              4.673549           0.700087          0.115089  \n",
              "4              4.670810           0.699898          0.111815  \n",
              "...                 ...                ...               ...  \n",
              "6415           3.184012           0.538596          0.095652  \n",
              "6416           3.187148           0.538593          0.096662  \n",
              "6417           3.188418           0.538589          0.097330  \n",
              "6418           3.172111           0.538585          0.097909  \n",
              "6419           3.137017           0.538580          0.098295  \n",
              "\n",
              "[6420 rows x 8 columns]"
            ]
          },
          "execution_count": 63,
          "metadata": {},
          "output_type": "execute_result"
        }
      ],
      "source": [
        "df"
      ]
    },
    {
      "cell_type": "code",
      "execution_count": 64,
      "metadata": {
        "colab": {
          "base_uri": "https://localhost:8080/"
        },
        "id": "JVdw9SPmtIPY",
        "outputId": "893d1e1d-6832-4705-d9a2-2699d2fe30a3"
      },
      "outputs": [
        {
          "data": {
            "text/html": [
              "<div>\n",
              "<style scoped>\n",
              "    .dataframe tbody tr th:only-of-type {\n",
              "        vertical-align: middle;\n",
              "    }\n",
              "\n",
              "    .dataframe tbody tr th {\n",
              "        vertical-align: top;\n",
              "    }\n",
              "\n",
              "    .dataframe thead th {\n",
              "        text-align: right;\n",
              "    }\n",
              "</style>\n",
              "<table border=\"1\" class=\"dataframe\">\n",
              "  <thead>\n",
              "    <tr style=\"text-align: right;\">\n",
              "      <th></th>\n",
              "      <th>Entity</th>\n",
              "      <th>Code</th>\n",
              "      <th>Year</th>\n",
              "      <th>Schizophrenia_disorders</th>\n",
              "      <th>Depressive_disorders</th>\n",
              "      <th>Anxiety_disorders</th>\n",
              "      <th>Bipolar_disorders</th>\n",
              "      <th>Eating_disorders</th>\n",
              "    </tr>\n",
              "  </thead>\n",
              "  <tbody>\n",
              "    <tr>\n",
              "      <th>0</th>\n",
              "      <td>Afghanistan</td>\n",
              "      <td>AFG</td>\n",
              "      <td>1990</td>\n",
              "      <td>0.223206</td>\n",
              "      <td>4.996118</td>\n",
              "      <td>4.713314</td>\n",
              "      <td>0.703023</td>\n",
              "      <td>0.127700</td>\n",
              "    </tr>\n",
              "    <tr>\n",
              "      <th>1</th>\n",
              "      <td>Afghanistan</td>\n",
              "      <td>AFG</td>\n",
              "      <td>1991</td>\n",
              "      <td>0.222454</td>\n",
              "      <td>4.989290</td>\n",
              "      <td>4.702100</td>\n",
              "      <td>0.702069</td>\n",
              "      <td>0.123256</td>\n",
              "    </tr>\n",
              "    <tr>\n",
              "      <th>2</th>\n",
              "      <td>Afghanistan</td>\n",
              "      <td>AFG</td>\n",
              "      <td>1992</td>\n",
              "      <td>0.221751</td>\n",
              "      <td>4.981346</td>\n",
              "      <td>4.683743</td>\n",
              "      <td>0.700792</td>\n",
              "      <td>0.118844</td>\n",
              "    </tr>\n",
              "    <tr>\n",
              "      <th>3</th>\n",
              "      <td>Afghanistan</td>\n",
              "      <td>AFG</td>\n",
              "      <td>1993</td>\n",
              "      <td>0.220987</td>\n",
              "      <td>4.976958</td>\n",
              "      <td>4.673549</td>\n",
              "      <td>0.700087</td>\n",
              "      <td>0.115089</td>\n",
              "    </tr>\n",
              "    <tr>\n",
              "      <th>4</th>\n",
              "      <td>Afghanistan</td>\n",
              "      <td>AFG</td>\n",
              "      <td>1994</td>\n",
              "      <td>0.220183</td>\n",
              "      <td>4.977782</td>\n",
              "      <td>4.670810</td>\n",
              "      <td>0.699898</td>\n",
              "      <td>0.111815</td>\n",
              "    </tr>\n",
              "    <tr>\n",
              "      <th>5</th>\n",
              "      <td>Afghanistan</td>\n",
              "      <td>AFG</td>\n",
              "      <td>1995</td>\n",
              "      <td>0.219409</td>\n",
              "      <td>4.978228</td>\n",
              "      <td>4.668100</td>\n",
              "      <td>0.699768</td>\n",
              "      <td>0.108507</td>\n",
              "    </tr>\n",
              "    <tr>\n",
              "      <th>6</th>\n",
              "      <td>Afghanistan</td>\n",
              "      <td>AFG</td>\n",
              "      <td>1996</td>\n",
              "      <td>0.218465</td>\n",
              "      <td>4.981489</td>\n",
              "      <td>4.665759</td>\n",
              "      <td>0.699650</td>\n",
              "      <td>0.105269</td>\n",
              "    </tr>\n",
              "    <tr>\n",
              "      <th>7</th>\n",
              "      <td>Afghanistan</td>\n",
              "      <td>AFG</td>\n",
              "      <td>1997</td>\n",
              "      <td>0.217286</td>\n",
              "      <td>4.987593</td>\n",
              "      <td>4.665013</td>\n",
              "      <td>0.699597</td>\n",
              "      <td>0.101531</td>\n",
              "    </tr>\n",
              "    <tr>\n",
              "      <th>8</th>\n",
              "      <td>Afghanistan</td>\n",
              "      <td>AFG</td>\n",
              "      <td>1998</td>\n",
              "      <td>0.216074</td>\n",
              "      <td>4.996858</td>\n",
              "      <td>4.668240</td>\n",
              "      <td>0.699765</td>\n",
              "      <td>0.098050</td>\n",
              "    </tr>\n",
              "    <tr>\n",
              "      <th>9</th>\n",
              "      <td>Afghanistan</td>\n",
              "      <td>AFG</td>\n",
              "      <td>1999</td>\n",
              "      <td>0.215068</td>\n",
              "      <td>5.004257</td>\n",
              "      <td>4.673557</td>\n",
              "      <td>0.700054</td>\n",
              "      <td>0.095723</td>\n",
              "    </tr>\n",
              "  </tbody>\n",
              "</table>\n",
              "</div>"
            ],
            "text/plain": [
              "        Entity Code  Year  Schizophrenia_disorders  Depressive_disorders  \\\n",
              "0  Afghanistan  AFG  1990                 0.223206              4.996118   \n",
              "1  Afghanistan  AFG  1991                 0.222454              4.989290   \n",
              "2  Afghanistan  AFG  1992                 0.221751              4.981346   \n",
              "3  Afghanistan  AFG  1993                 0.220987              4.976958   \n",
              "4  Afghanistan  AFG  1994                 0.220183              4.977782   \n",
              "5  Afghanistan  AFG  1995                 0.219409              4.978228   \n",
              "6  Afghanistan  AFG  1996                 0.218465              4.981489   \n",
              "7  Afghanistan  AFG  1997                 0.217286              4.987593   \n",
              "8  Afghanistan  AFG  1998                 0.216074              4.996858   \n",
              "9  Afghanistan  AFG  1999                 0.215068              5.004257   \n",
              "\n",
              "   Anxiety_disorders  Bipolar_disorders  Eating_disorders  \n",
              "0           4.713314           0.703023          0.127700  \n",
              "1           4.702100           0.702069          0.123256  \n",
              "2           4.683743           0.700792          0.118844  \n",
              "3           4.673549           0.700087          0.115089  \n",
              "4           4.670810           0.699898          0.111815  \n",
              "5           4.668100           0.699768          0.108507  \n",
              "6           4.665759           0.699650          0.105269  \n",
              "7           4.665013           0.699597          0.101531  \n",
              "8           4.668240           0.699765          0.098050  \n",
              "9           4.673557           0.700054          0.095723  "
            ]
          },
          "execution_count": 64,
          "metadata": {},
          "output_type": "execute_result"
        }
      ],
      "source": [
        "df.head(10)"
      ]
    },
    {
      "cell_type": "code",
      "execution_count": 65,
      "metadata": {
        "colab": {
          "base_uri": "https://localhost:8080/"
        },
        "id": "ZLit2b7VKQXJ",
        "outputId": "22919638-4842-43be-bfe0-93c50e71b1d1"
      },
      "outputs": [
        {
          "data": {
            "text/html": [
              "<div>\n",
              "<style scoped>\n",
              "    .dataframe tbody tr th:only-of-type {\n",
              "        vertical-align: middle;\n",
              "    }\n",
              "\n",
              "    .dataframe tbody tr th {\n",
              "        vertical-align: top;\n",
              "    }\n",
              "\n",
              "    .dataframe thead th {\n",
              "        text-align: right;\n",
              "    }\n",
              "</style>\n",
              "<table border=\"1\" class=\"dataframe\">\n",
              "  <thead>\n",
              "    <tr style=\"text-align: right;\">\n",
              "      <th></th>\n",
              "      <th>count</th>\n",
              "      <th>mean</th>\n",
              "      <th>std</th>\n",
              "      <th>min</th>\n",
              "      <th>25%</th>\n",
              "      <th>50%</th>\n",
              "      <th>75%</th>\n",
              "      <th>max</th>\n",
              "    </tr>\n",
              "  </thead>\n",
              "  <tbody>\n",
              "    <tr>\n",
              "      <th>Year</th>\n",
              "      <td>6420.0</td>\n",
              "      <td>2004.500000</td>\n",
              "      <td>8.656116</td>\n",
              "      <td>1990.000000</td>\n",
              "      <td>1997.000000</td>\n",
              "      <td>2004.500000</td>\n",
              "      <td>2012.000000</td>\n",
              "      <td>2019.000000</td>\n",
              "    </tr>\n",
              "    <tr>\n",
              "      <th>Schizophrenia_disorders</th>\n",
              "      <td>6420.0</td>\n",
              "      <td>0.266604</td>\n",
              "      <td>0.039383</td>\n",
              "      <td>0.188416</td>\n",
              "      <td>0.242267</td>\n",
              "      <td>0.273477</td>\n",
              "      <td>0.286575</td>\n",
              "      <td>0.462045</td>\n",
              "    </tr>\n",
              "    <tr>\n",
              "      <th>Depressive_disorders</th>\n",
              "      <td>6420.0</td>\n",
              "      <td>3.767036</td>\n",
              "      <td>0.925286</td>\n",
              "      <td>1.522333</td>\n",
              "      <td>3.080036</td>\n",
              "      <td>3.636772</td>\n",
              "      <td>4.366252</td>\n",
              "      <td>7.645899</td>\n",
              "    </tr>\n",
              "    <tr>\n",
              "      <th>Anxiety_disorders</th>\n",
              "      <td>6420.0</td>\n",
              "      <td>4.101840</td>\n",
              "      <td>1.050543</td>\n",
              "      <td>1.879996</td>\n",
              "      <td>3.425846</td>\n",
              "      <td>3.939547</td>\n",
              "      <td>4.564164</td>\n",
              "      <td>8.624634</td>\n",
              "    </tr>\n",
              "    <tr>\n",
              "      <th>Bipolar_disorders</th>\n",
              "      <td>6420.0</td>\n",
              "      <td>0.636968</td>\n",
              "      <td>0.233391</td>\n",
              "      <td>0.181667</td>\n",
              "      <td>0.520872</td>\n",
              "      <td>0.579331</td>\n",
              "      <td>0.844406</td>\n",
              "      <td>1.506730</td>\n",
              "    </tr>\n",
              "    <tr>\n",
              "      <th>Eating_disorders</th>\n",
              "      <td>6420.0</td>\n",
              "      <td>0.195664</td>\n",
              "      <td>0.138380</td>\n",
              "      <td>0.044780</td>\n",
              "      <td>0.096416</td>\n",
              "      <td>0.144150</td>\n",
              "      <td>0.251167</td>\n",
              "      <td>1.031688</td>\n",
              "    </tr>\n",
              "  </tbody>\n",
              "</table>\n",
              "</div>"
            ],
            "text/plain": [
              "                          count         mean       std          min  \\\n",
              "Year                     6420.0  2004.500000  8.656116  1990.000000   \n",
              "Schizophrenia_disorders  6420.0     0.266604  0.039383     0.188416   \n",
              "Depressive_disorders     6420.0     3.767036  0.925286     1.522333   \n",
              "Anxiety_disorders        6420.0     4.101840  1.050543     1.879996   \n",
              "Bipolar_disorders        6420.0     0.636968  0.233391     0.181667   \n",
              "Eating_disorders         6420.0     0.195664  0.138380     0.044780   \n",
              "\n",
              "                                 25%          50%          75%          max  \n",
              "Year                     1997.000000  2004.500000  2012.000000  2019.000000  \n",
              "Schizophrenia_disorders     0.242267     0.273477     0.286575     0.462045  \n",
              "Depressive_disorders        3.080036     3.636772     4.366252     7.645899  \n",
              "Anxiety_disorders           3.425846     3.939547     4.564164     8.624634  \n",
              "Bipolar_disorders           0.520872     0.579331     0.844406     1.506730  \n",
              "Eating_disorders            0.096416     0.144150     0.251167     1.031688  "
            ]
          },
          "execution_count": 65,
          "metadata": {},
          "output_type": "execute_result"
        }
      ],
      "source": [
        "df.describe().T"
      ]
    },
    {
      "cell_type": "code",
      "execution_count": 66,
      "metadata": {
        "colab": {
          "base_uri": "https://localhost:8080/"
        },
        "id": "XnGFtjc2N5K9",
        "outputId": "4e76c210-76ed-472c-b0f9-3549aecd21be"
      },
      "outputs": [
        {
          "data": {
            "text/plain": [
              "(6420, 8)"
            ]
          },
          "execution_count": 66,
          "metadata": {},
          "output_type": "execute_result"
        }
      ],
      "source": [
        "df.shape"
      ]
    },
    {
      "cell_type": "code",
      "execution_count": 67,
      "metadata": {
        "colab": {
          "base_uri": "https://localhost:8080/"
        },
        "id": "vNJN4WKJKQih",
        "outputId": "46482dc9-fbae-4072-85e3-4b7af650a448"
      },
      "outputs": [
        {
          "name": "stdout",
          "output_type": "stream",
          "text": [
            "<class 'pandas.core.frame.DataFrame'>\n",
            "RangeIndex: 6420 entries, 0 to 6419\n",
            "Data columns (total 8 columns):\n",
            " #   Column                   Non-Null Count  Dtype  \n",
            "---  ------                   --------------  -----  \n",
            " 0   Entity                   6420 non-null   object \n",
            " 1   Code                     6150 non-null   object \n",
            " 2   Year                     6420 non-null   int64  \n",
            " 3   Schizophrenia_disorders  6420 non-null   float64\n",
            " 4   Depressive_disorders     6420 non-null   float64\n",
            " 5   Anxiety_disorders        6420 non-null   float64\n",
            " 6   Bipolar_disorders        6420 non-null   float64\n",
            " 7   Eating_disorders         6420 non-null   float64\n",
            "dtypes: float64(5), int64(1), object(2)\n",
            "memory usage: 401.4+ KB\n"
          ]
        }
      ],
      "source": [
        "df.info()"
      ]
    },
    {
      "cell_type": "markdown",
      "metadata": {
        "id": "0ZkQqkZWAblm"
      },
      "source": [
        "#Preprocessing"
      ]
    },
    {
      "cell_type": "code",
      "execution_count": 68,
      "metadata": {
        "colab": {
          "base_uri": "https://localhost:8080/"
        },
        "id": "Kd-nKCHiKBNr",
        "outputId": "03771b38-bc82-476d-c965-694ca2e891ff"
      },
      "outputs": [
        {
          "data": {
            "text/plain": [
              "Entity                       0\n",
              "Code                       270\n",
              "Year                         0\n",
              "Schizophrenia_disorders      0\n",
              "Depressive_disorders         0\n",
              "Anxiety_disorders            0\n",
              "Bipolar_disorders            0\n",
              "Eating_disorders             0\n",
              "dtype: int64"
            ]
          },
          "execution_count": 68,
          "metadata": {},
          "output_type": "execute_result"
        }
      ],
      "source": [
        "df.isnull().sum()"
      ]
    },
    {
      "cell_type": "code",
      "execution_count": 69,
      "metadata": {
        "id": "rf5cQBKET1Sb"
      },
      "outputs": [],
      "source": [
        "df = df.drop([\"Code\"], axis=1)"
      ]
    },
    {
      "cell_type": "code",
      "execution_count": 70,
      "metadata": {
        "colab": {
          "base_uri": "https://localhost:8080/"
        },
        "id": "gmUR7C5WUvND",
        "outputId": "3e02b69d-3095-44a9-f7f3-580677e54d73"
      },
      "outputs": [
        {
          "name": "stdout",
          "output_type": "stream",
          "text": [
            "<class 'pandas.core.frame.DataFrame'>\n",
            "RangeIndex: 6420 entries, 0 to 6419\n",
            "Data columns (total 7 columns):\n",
            " #   Column                   Non-Null Count  Dtype  \n",
            "---  ------                   --------------  -----  \n",
            " 0   Entity                   6420 non-null   object \n",
            " 1   Year                     6420 non-null   int64  \n",
            " 2   Schizophrenia_disorders  6420 non-null   float64\n",
            " 3   Depressive_disorders     6420 non-null   float64\n",
            " 4   Anxiety_disorders        6420 non-null   float64\n",
            " 5   Bipolar_disorders        6420 non-null   float64\n",
            " 6   Eating_disorders         6420 non-null   float64\n",
            "dtypes: float64(5), int64(1), object(1)\n",
            "memory usage: 351.2+ KB\n"
          ]
        }
      ],
      "source": [
        "df.info()"
      ]
    },
    {
      "cell_type": "code",
      "execution_count": 71,
      "metadata": {
        "colab": {
          "base_uri": "https://localhost:8080/"
        },
        "id": "t_v2LICsM7gh",
        "outputId": "901050de-b851-4db3-e007-f0b0663e4ee7"
      },
      "outputs": [
        {
          "data": {
            "text/plain": [
              "Entity                     0\n",
              "Year                       0\n",
              "Schizophrenia_disorders    0\n",
              "Depressive_disorders       0\n",
              "Anxiety_disorders          0\n",
              "Bipolar_disorders          0\n",
              "Eating_disorders           0\n",
              "dtype: int64"
            ]
          },
          "execution_count": 71,
          "metadata": {},
          "output_type": "execute_result"
        }
      ],
      "source": [
        "df.isnull().sum()"
      ]
    },
    {
      "cell_type": "code",
      "execution_count": 72,
      "metadata": {
        "id": "X-_nCyEwT3bf"
      },
      "outputs": [],
      "source": [
        "# Filter hanya data dari Indonesia\n",
        "df_indonesia = df[df['Entity'] == 'Indonesia']"
      ]
    },
    {
      "cell_type": "code",
      "execution_count": 73,
      "metadata": {
        "id": "CGttdMHzvo_e"
      },
      "outputs": [],
      "source": [
        "# Melakukan pengelompokkan berdasarkan entitas\n",
        "df1 = df_indonesia.groupby(['Entity', 'Year']).first().reset_index()"
      ]
    },
    {
      "cell_type": "code",
      "execution_count": 74,
      "metadata": {
        "colab": {
          "base_uri": "https://localhost:8080/"
        },
        "id": "YTEfuEbCVdrL",
        "outputId": "4b0ebed9-9e13-4b1e-ee8f-e7ef17e6bf9f"
      },
      "outputs": [
        {
          "data": {
            "text/html": [
              "<div>\n",
              "<style scoped>\n",
              "    .dataframe tbody tr th:only-of-type {\n",
              "        vertical-align: middle;\n",
              "    }\n",
              "\n",
              "    .dataframe tbody tr th {\n",
              "        vertical-align: top;\n",
              "    }\n",
              "\n",
              "    .dataframe thead th {\n",
              "        text-align: right;\n",
              "    }\n",
              "</style>\n",
              "<table border=\"1\" class=\"dataframe\">\n",
              "  <thead>\n",
              "    <tr style=\"text-align: right;\">\n",
              "      <th></th>\n",
              "      <th>Entity</th>\n",
              "      <th>Year</th>\n",
              "      <th>Schizophrenia_disorders</th>\n",
              "      <th>Depressive_disorders</th>\n",
              "      <th>Anxiety_disorders</th>\n",
              "      <th>Bipolar_disorders</th>\n",
              "      <th>Eating_disorders</th>\n",
              "    </tr>\n",
              "  </thead>\n",
              "  <tbody>\n",
              "    <tr>\n",
              "      <th>0</th>\n",
              "      <td>Indonesia</td>\n",
              "      <td>1990</td>\n",
              "      <td>0.280833</td>\n",
              "      <td>2.434134</td>\n",
              "      <td>3.398064</td>\n",
              "      <td>0.331020</td>\n",
              "      <td>0.081623</td>\n",
              "    </tr>\n",
              "    <tr>\n",
              "      <th>1</th>\n",
              "      <td>Indonesia</td>\n",
              "      <td>1991</td>\n",
              "      <td>0.281928</td>\n",
              "      <td>2.422588</td>\n",
              "      <td>3.404563</td>\n",
              "      <td>0.331011</td>\n",
              "      <td>0.082828</td>\n",
              "    </tr>\n",
              "    <tr>\n",
              "      <th>2</th>\n",
              "      <td>Indonesia</td>\n",
              "      <td>1992</td>\n",
              "      <td>0.282912</td>\n",
              "      <td>2.412402</td>\n",
              "      <td>3.410624</td>\n",
              "      <td>0.330992</td>\n",
              "      <td>0.083908</td>\n",
              "    </tr>\n",
              "    <tr>\n",
              "      <th>3</th>\n",
              "      <td>Indonesia</td>\n",
              "      <td>1993</td>\n",
              "      <td>0.283738</td>\n",
              "      <td>2.403884</td>\n",
              "      <td>3.415783</td>\n",
              "      <td>0.330971</td>\n",
              "      <td>0.084859</td>\n",
              "    </tr>\n",
              "    <tr>\n",
              "      <th>4</th>\n",
              "      <td>Indonesia</td>\n",
              "      <td>1994</td>\n",
              "      <td>0.284362</td>\n",
              "      <td>2.397779</td>\n",
              "      <td>3.419655</td>\n",
              "      <td>0.330948</td>\n",
              "      <td>0.085637</td>\n",
              "    </tr>\n",
              "    <tr>\n",
              "      <th>5</th>\n",
              "      <td>Indonesia</td>\n",
              "      <td>1995</td>\n",
              "      <td>0.284738</td>\n",
              "      <td>2.394692</td>\n",
              "      <td>3.421891</td>\n",
              "      <td>0.330924</td>\n",
              "      <td>0.086203</td>\n",
              "    </tr>\n",
              "    <tr>\n",
              "      <th>6</th>\n",
              "      <td>Indonesia</td>\n",
              "      <td>1996</td>\n",
              "      <td>0.284910</td>\n",
              "      <td>2.393491</td>\n",
              "      <td>3.423420</td>\n",
              "      <td>0.330916</td>\n",
              "      <td>0.086512</td>\n",
              "    </tr>\n",
              "    <tr>\n",
              "      <th>7</th>\n",
              "      <td>Indonesia</td>\n",
              "      <td>1997</td>\n",
              "      <td>0.284982</td>\n",
              "      <td>2.392996</td>\n",
              "      <td>3.425396</td>\n",
              "      <td>0.330897</td>\n",
              "      <td>0.086892</td>\n",
              "    </tr>\n",
              "    <tr>\n",
              "      <th>8</th>\n",
              "      <td>Indonesia</td>\n",
              "      <td>1998</td>\n",
              "      <td>0.284988</td>\n",
              "      <td>2.392508</td>\n",
              "      <td>3.427276</td>\n",
              "      <td>0.330878</td>\n",
              "      <td>0.087053</td>\n",
              "    </tr>\n",
              "    <tr>\n",
              "      <th>9</th>\n",
              "      <td>Indonesia</td>\n",
              "      <td>1999</td>\n",
              "      <td>0.284969</td>\n",
              "      <td>2.392435</td>\n",
              "      <td>3.428572</td>\n",
              "      <td>0.330857</td>\n",
              "      <td>0.087256</td>\n",
              "    </tr>\n",
              "    <tr>\n",
              "      <th>10</th>\n",
              "      <td>Indonesia</td>\n",
              "      <td>2000</td>\n",
              "      <td>0.284961</td>\n",
              "      <td>2.391725</td>\n",
              "      <td>3.428811</td>\n",
              "      <td>0.330835</td>\n",
              "      <td>0.087565</td>\n",
              "    </tr>\n",
              "    <tr>\n",
              "      <th>11</th>\n",
              "      <td>Indonesia</td>\n",
              "      <td>2001</td>\n",
              "      <td>0.284947</td>\n",
              "      <td>2.391101</td>\n",
              "      <td>3.427488</td>\n",
              "      <td>0.330829</td>\n",
              "      <td>0.087751</td>\n",
              "    </tr>\n",
              "    <tr>\n",
              "      <th>12</th>\n",
              "      <td>Indonesia</td>\n",
              "      <td>2002</td>\n",
              "      <td>0.284901</td>\n",
              "      <td>2.389943</td>\n",
              "      <td>3.425295</td>\n",
              "      <td>0.330812</td>\n",
              "      <td>0.087922</td>\n",
              "    </tr>\n",
              "    <tr>\n",
              "      <th>13</th>\n",
              "      <td>Indonesia</td>\n",
              "      <td>2003</td>\n",
              "      <td>0.284848</td>\n",
              "      <td>2.388322</td>\n",
              "      <td>3.422966</td>\n",
              "      <td>0.330795</td>\n",
              "      <td>0.088054</td>\n",
              "    </tr>\n",
              "    <tr>\n",
              "      <th>14</th>\n",
              "      <td>Indonesia</td>\n",
              "      <td>2004</td>\n",
              "      <td>0.284807</td>\n",
              "      <td>2.386900</td>\n",
              "      <td>3.421390</td>\n",
              "      <td>0.330779</td>\n",
              "      <td>0.088291</td>\n",
              "    </tr>\n",
              "    <tr>\n",
              "      <th>15</th>\n",
              "      <td>Indonesia</td>\n",
              "      <td>2005</td>\n",
              "      <td>0.284804</td>\n",
              "      <td>2.385023</td>\n",
              "      <td>3.421253</td>\n",
              "      <td>0.330762</td>\n",
              "      <td>0.088711</td>\n",
              "    </tr>\n",
              "    <tr>\n",
              "      <th>16</th>\n",
              "      <td>Indonesia</td>\n",
              "      <td>2006</td>\n",
              "      <td>0.284818</td>\n",
              "      <td>2.380337</td>\n",
              "      <td>3.424576</td>\n",
              "      <td>0.330756</td>\n",
              "      <td>0.089248</td>\n",
              "    </tr>\n",
              "    <tr>\n",
              "      <th>17</th>\n",
              "      <td>Indonesia</td>\n",
              "      <td>2007</td>\n",
              "      <td>0.284839</td>\n",
              "      <td>2.371911</td>\n",
              "      <td>3.432175</td>\n",
              "      <td>0.330742</td>\n",
              "      <td>0.090261</td>\n",
              "    </tr>\n",
              "    <tr>\n",
              "      <th>18</th>\n",
              "      <td>Indonesia</td>\n",
              "      <td>2008</td>\n",
              "      <td>0.284896</td>\n",
              "      <td>2.362847</td>\n",
              "      <td>3.442043</td>\n",
              "      <td>0.330729</td>\n",
              "      <td>0.091443</td>\n",
              "    </tr>\n",
              "    <tr>\n",
              "      <th>19</th>\n",
              "      <td>Indonesia</td>\n",
              "      <td>2009</td>\n",
              "      <td>0.285026</td>\n",
              "      <td>2.355192</td>\n",
              "      <td>3.452257</td>\n",
              "      <td>0.330717</td>\n",
              "      <td>0.092758</td>\n",
              "    </tr>\n",
              "    <tr>\n",
              "      <th>20</th>\n",
              "      <td>Indonesia</td>\n",
              "      <td>2010</td>\n",
              "      <td>0.285260</td>\n",
              "      <td>2.352026</td>\n",
              "      <td>3.460910</td>\n",
              "      <td>0.330703</td>\n",
              "      <td>0.094088</td>\n",
              "    </tr>\n",
              "    <tr>\n",
              "      <th>21</th>\n",
              "      <td>Indonesia</td>\n",
              "      <td>2011</td>\n",
              "      <td>0.286115</td>\n",
              "      <td>2.354250</td>\n",
              "      <td>3.469920</td>\n",
              "      <td>0.330697</td>\n",
              "      <td>0.095613</td>\n",
              "    </tr>\n",
              "    <tr>\n",
              "      <th>22</th>\n",
              "      <td>Indonesia</td>\n",
              "      <td>2012</td>\n",
              "      <td>0.287747</td>\n",
              "      <td>2.360596</td>\n",
              "      <td>3.481727</td>\n",
              "      <td>0.330687</td>\n",
              "      <td>0.097589</td>\n",
              "    </tr>\n",
              "    <tr>\n",
              "      <th>23</th>\n",
              "      <td>Indonesia</td>\n",
              "      <td>2013</td>\n",
              "      <td>0.289640</td>\n",
              "      <td>2.368300</td>\n",
              "      <td>3.494500</td>\n",
              "      <td>0.330676</td>\n",
              "      <td>0.099733</td>\n",
              "    </tr>\n",
              "    <tr>\n",
              "      <th>24</th>\n",
              "      <td>Indonesia</td>\n",
              "      <td>2014</td>\n",
              "      <td>0.291277</td>\n",
              "      <td>2.374546</td>\n",
              "      <td>3.506495</td>\n",
              "      <td>0.330666</td>\n",
              "      <td>0.101815</td>\n",
              "    </tr>\n",
              "    <tr>\n",
              "      <th>25</th>\n",
              "      <td>Indonesia</td>\n",
              "      <td>2015</td>\n",
              "      <td>0.292144</td>\n",
              "      <td>2.378007</td>\n",
              "      <td>3.515968</td>\n",
              "      <td>0.330654</td>\n",
              "      <td>0.103857</td>\n",
              "    </tr>\n",
              "    <tr>\n",
              "      <th>26</th>\n",
              "      <td>Indonesia</td>\n",
              "      <td>2016</td>\n",
              "      <td>0.291673</td>\n",
              "      <td>2.374307</td>\n",
              "      <td>3.526784</td>\n",
              "      <td>0.330645</td>\n",
              "      <td>0.106175</td>\n",
              "    </tr>\n",
              "    <tr>\n",
              "      <th>27</th>\n",
              "      <td>Indonesia</td>\n",
              "      <td>2017</td>\n",
              "      <td>0.291096</td>\n",
              "      <td>2.371373</td>\n",
              "      <td>3.535623</td>\n",
              "      <td>0.330634</td>\n",
              "      <td>0.108205</td>\n",
              "    </tr>\n",
              "    <tr>\n",
              "      <th>28</th>\n",
              "      <td>Indonesia</td>\n",
              "      <td>2018</td>\n",
              "      <td>0.291861</td>\n",
              "      <td>2.385923</td>\n",
              "      <td>3.541291</td>\n",
              "      <td>0.330622</td>\n",
              "      <td>0.109677</td>\n",
              "    </tr>\n",
              "    <tr>\n",
              "      <th>29</th>\n",
              "      <td>Indonesia</td>\n",
              "      <td>2019</td>\n",
              "      <td>0.293687</td>\n",
              "      <td>2.418471</td>\n",
              "      <td>3.548004</td>\n",
              "      <td>0.330610</td>\n",
              "      <td>0.110850</td>\n",
              "    </tr>\n",
              "  </tbody>\n",
              "</table>\n",
              "</div>"
            ],
            "text/plain": [
              "       Entity  Year  Schizophrenia_disorders  Depressive_disorders  \\\n",
              "0   Indonesia  1990                 0.280833              2.434134   \n",
              "1   Indonesia  1991                 0.281928              2.422588   \n",
              "2   Indonesia  1992                 0.282912              2.412402   \n",
              "3   Indonesia  1993                 0.283738              2.403884   \n",
              "4   Indonesia  1994                 0.284362              2.397779   \n",
              "5   Indonesia  1995                 0.284738              2.394692   \n",
              "6   Indonesia  1996                 0.284910              2.393491   \n",
              "7   Indonesia  1997                 0.284982              2.392996   \n",
              "8   Indonesia  1998                 0.284988              2.392508   \n",
              "9   Indonesia  1999                 0.284969              2.392435   \n",
              "10  Indonesia  2000                 0.284961              2.391725   \n",
              "11  Indonesia  2001                 0.284947              2.391101   \n",
              "12  Indonesia  2002                 0.284901              2.389943   \n",
              "13  Indonesia  2003                 0.284848              2.388322   \n",
              "14  Indonesia  2004                 0.284807              2.386900   \n",
              "15  Indonesia  2005                 0.284804              2.385023   \n",
              "16  Indonesia  2006                 0.284818              2.380337   \n",
              "17  Indonesia  2007                 0.284839              2.371911   \n",
              "18  Indonesia  2008                 0.284896              2.362847   \n",
              "19  Indonesia  2009                 0.285026              2.355192   \n",
              "20  Indonesia  2010                 0.285260              2.352026   \n",
              "21  Indonesia  2011                 0.286115              2.354250   \n",
              "22  Indonesia  2012                 0.287747              2.360596   \n",
              "23  Indonesia  2013                 0.289640              2.368300   \n",
              "24  Indonesia  2014                 0.291277              2.374546   \n",
              "25  Indonesia  2015                 0.292144              2.378007   \n",
              "26  Indonesia  2016                 0.291673              2.374307   \n",
              "27  Indonesia  2017                 0.291096              2.371373   \n",
              "28  Indonesia  2018                 0.291861              2.385923   \n",
              "29  Indonesia  2019                 0.293687              2.418471   \n",
              "\n",
              "    Anxiety_disorders  Bipolar_disorders  Eating_disorders  \n",
              "0            3.398064           0.331020          0.081623  \n",
              "1            3.404563           0.331011          0.082828  \n",
              "2            3.410624           0.330992          0.083908  \n",
              "3            3.415783           0.330971          0.084859  \n",
              "4            3.419655           0.330948          0.085637  \n",
              "5            3.421891           0.330924          0.086203  \n",
              "6            3.423420           0.330916          0.086512  \n",
              "7            3.425396           0.330897          0.086892  \n",
              "8            3.427276           0.330878          0.087053  \n",
              "9            3.428572           0.330857          0.087256  \n",
              "10           3.428811           0.330835          0.087565  \n",
              "11           3.427488           0.330829          0.087751  \n",
              "12           3.425295           0.330812          0.087922  \n",
              "13           3.422966           0.330795          0.088054  \n",
              "14           3.421390           0.330779          0.088291  \n",
              "15           3.421253           0.330762          0.088711  \n",
              "16           3.424576           0.330756          0.089248  \n",
              "17           3.432175           0.330742          0.090261  \n",
              "18           3.442043           0.330729          0.091443  \n",
              "19           3.452257           0.330717          0.092758  \n",
              "20           3.460910           0.330703          0.094088  \n",
              "21           3.469920           0.330697          0.095613  \n",
              "22           3.481727           0.330687          0.097589  \n",
              "23           3.494500           0.330676          0.099733  \n",
              "24           3.506495           0.330666          0.101815  \n",
              "25           3.515968           0.330654          0.103857  \n",
              "26           3.526784           0.330645          0.106175  \n",
              "27           3.535623           0.330634          0.108205  \n",
              "28           3.541291           0.330622          0.109677  \n",
              "29           3.548004           0.330610          0.110850  "
            ]
          },
          "execution_count": 74,
          "metadata": {},
          "output_type": "execute_result"
        }
      ],
      "source": [
        "df1"
      ]
    },
    {
      "cell_type": "code",
      "execution_count": 75,
      "metadata": {
        "id": "mQFrRPzc6a3n"
      },
      "outputs": [],
      "source": [
        "df2 = df1.drop([\"Entity\"], axis=1)"
      ]
    },
    {
      "cell_type": "markdown",
      "metadata": {
        "id": "jW5Jsxl6UVWG"
      },
      "source": [
        "#Exploratory Data Analist (EDA)"
      ]
    },
    {
      "cell_type": "markdown",
      "metadata": {
        "id": "U_kn_xgDPfhJ"
      },
      "source": [
        "##scatter\n"
      ]
    },
    {
      "cell_type": "code",
      "execution_count": 76,
      "metadata": {
        "colab": {
          "base_uri": "https://localhost:8080/"
        },
        "id": "iAAbUkZBPWZ2",
        "outputId": "a511246a-8df1-4033-e33a-3fe5ed400ab1"
      },
      "outputs": [
        {
          "data": {
            "image/png": "[encoded data removed]",
            "text/plain": [
              "<Figure size 640x480 with 1 Axes>"
            ]
          },
          "metadata": {},
          "output_type": "display_data"
        }
      ],
      "source": [
        "#Bivariate analysis Tahun dan pengidap Schizophrenia disorders.\n",
        "#Menggunakan scatter plot.\n",
        "plt.scatter(df2['Year'], df2['Schizophrenia_disorders'])\n",
        "plt.xlabel('Year')\n",
        "plt.ylabel('Schizophrenia_disorders')\n",
        "plt.title('Year vs Schizophrenia_disorders')\n",
        "plt.show()"
      ]
    },
    {
      "cell_type": "code",
      "execution_count": 77,
      "metadata": {
        "colab": {
          "base_uri": "https://localhost:8080/"
        },
        "id": "iiq-nrdfQEN6",
        "outputId": "0ad5c81c-7272-445a-a20f-5c1f66f234a8"
      },
      "outputs": [
        {
          "data": {
            "image/png": "[encoded data removed]",
            "text/plain": [
              "<Figure size 640x480 with 1 Axes>"
            ]
          },
          "metadata": {},
          "output_type": "display_data"
        }
      ],
      "source": [
        "#Bivariate analysis Tahun dan pengidap Depressive disorders.\n",
        "#Menggunakan scatter plot.\n",
        "plt.scatter(df2['Year'], df2['Depressive_disorders'])\n",
        "plt.xlabel('Year')\n",
        "plt.ylabel('Depressive_disorders')\n",
        "plt.title('Year vs Depressive_disorders')\n",
        "plt.show()"
      ]
    },
    {
      "cell_type": "code",
      "execution_count": 78,
      "metadata": {
        "colab": {
          "base_uri": "https://localhost:8080/"
        },
        "id": "lSZrUKs4QD9P",
        "outputId": "76838fc3-278a-4f7d-d9ce-ecbaa94bcdf1"
      },
      "outputs": [
        {
          "data": {
            "image/png": "[encoded data removed]",
            "text/plain": [
              "<Figure size 640x480 with 1 Axes>"
            ]
          },
          "metadata": {},
          "output_type": "display_data"
        }
      ],
      "source": [
        "#Bivariate analysis Tahun dan pengidap Anxiety disorders.\n",
        "#Menggunakan scatter plot.\n",
        "plt.scatter(df2['Year'], df2['Anxiety_disorders'])\n",
        "plt.xlabel('Year')\n",
        "plt.ylabel('Anxiety_disorders')\n",
        "plt.title('Year vs Anxiety_disorders')\n",
        "plt.show()"
      ]
    },
    {
      "cell_type": "code",
      "execution_count": 79,
      "metadata": {
        "colab": {
          "base_uri": "https://localhost:8080/"
        },
        "id": "Tftl-AR_QDOI",
        "outputId": "188f7ca1-6b26-416d-ce70-1476f645dba3"
      },
      "outputs": [
        {
          "data": {
            "image/png": "[encoded data removed]",
            "text/plain": [
              "<Figure size 640x480 with 1 Axes>"
            ]
          },
          "metadata": {},
          "output_type": "display_data"
        }
      ],
      "source": [
        "#Bivariate analysis Tahun dan Bipolar Disorder.\n",
        "#Menggunakan scatter plot.\n",
        "plt.scatter(df2['Year'], df2['Bipolar_disorders'])\n",
        "plt.xlabel('Year')\n",
        "plt.ylabel('Bipolar_disorders')\n",
        "plt.title('Year vs Bipolar_disorders')\n",
        "plt.show()"
      ]
    },
    {
      "cell_type": "code",
      "execution_count": 80,
      "metadata": {
        "colab": {
          "base_uri": "https://localhost:8080/"
        },
        "id": "r-q3FLz-QDnW",
        "outputId": "3091e42b-a3ad-4b4a-ee32-1c00097f4e82"
      },
      "outputs": [
        {
          "data": {
            "image/png": "[encoded data removed]",
            "text/plain": [
              "<Figure size 640x480 with 1 Axes>"
            ]
          },
          "metadata": {},
          "output_type": "display_data"
        }
      ],
      "source": [
        "#Bivariate analysis Tahun dan pengidap Eating disorder.\n",
        "#Menggunakan scatter plot.\n",
        "plt.scatter(df2['Year'], df2['Eating_disorders'])\n",
        "plt.xlabel('Year')\n",
        "plt.ylabel('Eating_disorders')\n",
        "plt.title('Year vs Eating_disorders')\n",
        "plt.show()"
      ]
    },
    {
      "cell_type": "markdown",
      "metadata": {
        "id": "4quTe80jLhTE"
      },
      "source": [
        "##korelasi"
      ]
    },
    {
      "cell_type": "code",
      "execution_count": 81,
      "metadata": {
        "colab": {
          "base_uri": "https://localhost:8080/"
        },
        "id": "Kna4rOdQP-eS",
        "outputId": "5bdd18e1-078e-4ae1-9b0f-07790caa8ec0"
      },
      "outputs": [
        {
          "data": {
            "text/html": [
              "<div>\n",
              "<style scoped>\n",
              "    .dataframe tbody tr th:only-of-type {\n",
              "        vertical-align: middle;\n",
              "    }\n",
              "\n",
              "    .dataframe tbody tr th {\n",
              "        vertical-align: top;\n",
              "    }\n",
              "\n",
              "    .dataframe thead th {\n",
              "        text-align: right;\n",
              "    }\n",
              "</style>\n",
              "<table border=\"1\" class=\"dataframe\">\n",
              "  <thead>\n",
              "    <tr style=\"text-align: right;\">\n",
              "      <th></th>\n",
              "      <th>Year</th>\n",
              "      <th>Schizophrenia_disorders</th>\n",
              "      <th>Depressive_disorders</th>\n",
              "      <th>Anxiety_disorders</th>\n",
              "      <th>Bipolar_disorders</th>\n",
              "      <th>Eating_disorders</th>\n",
              "    </tr>\n",
              "  </thead>\n",
              "  <tbody>\n",
              "    <tr>\n",
              "      <th>Year</th>\n",
              "      <td>1.000000</td>\n",
              "      <td>0.870221</td>\n",
              "      <td>-0.631472</td>\n",
              "      <td>0.900515</td>\n",
              "      <td>-0.992143</td>\n",
              "      <td>0.930962</td>\n",
              "    </tr>\n",
              "    <tr>\n",
              "      <th>Schizophrenia_disorders</th>\n",
              "      <td>0.870221</td>\n",
              "      <td>1.000000</td>\n",
              "      <td>-0.319166</td>\n",
              "      <td>0.967075</td>\n",
              "      <td>-0.826256</td>\n",
              "      <td>0.964010</td>\n",
              "    </tr>\n",
              "    <tr>\n",
              "      <th>Depressive_disorders</th>\n",
              "      <td>-0.631472</td>\n",
              "      <td>-0.319166</td>\n",
              "      <td>1.000000</td>\n",
              "      <td>-0.372219</td>\n",
              "      <td>0.684888</td>\n",
              "      <td>-0.398118</td>\n",
              "    </tr>\n",
              "    <tr>\n",
              "      <th>Anxiety_disorders</th>\n",
              "      <td>0.900515</td>\n",
              "      <td>0.967075</td>\n",
              "      <td>-0.372219</td>\n",
              "      <td>1.000000</td>\n",
              "      <td>-0.846721</td>\n",
              "      <td>0.994544</td>\n",
              "    </tr>\n",
              "    <tr>\n",
              "      <th>Bipolar_disorders</th>\n",
              "      <td>-0.992143</td>\n",
              "      <td>-0.826256</td>\n",
              "      <td>0.684888</td>\n",
              "      <td>-0.846721</td>\n",
              "      <td>1.000000</td>\n",
              "      <td>-0.884087</td>\n",
              "    </tr>\n",
              "    <tr>\n",
              "      <th>Eating_disorders</th>\n",
              "      <td>0.930962</td>\n",
              "      <td>0.964010</td>\n",
              "      <td>-0.398118</td>\n",
              "      <td>0.994544</td>\n",
              "      <td>-0.884087</td>\n",
              "      <td>1.000000</td>\n",
              "    </tr>\n",
              "  </tbody>\n",
              "</table>\n",
              "</div>"
            ],
            "text/plain": [
              "                             Year  Schizophrenia_disorders  \\\n",
              "Year                     1.000000                 0.870221   \n",
              "Schizophrenia_disorders  0.870221                 1.000000   \n",
              "Depressive_disorders    -0.631472                -0.319166   \n",
              "Anxiety_disorders        0.900515                 0.967075   \n",
              "Bipolar_disorders       -0.992143                -0.826256   \n",
              "Eating_disorders         0.930962                 0.964010   \n",
              "\n",
              "                         Depressive_disorders  Anxiety_disorders  \\\n",
              "Year                                -0.631472           0.900515   \n",
              "Schizophrenia_disorders             -0.319166           0.967075   \n",
              "Depressive_disorders                 1.000000          -0.372219   \n",
              "Anxiety_disorders                   -0.372219           1.000000   \n",
              "Bipolar_disorders                    0.684888          -0.846721   \n",
              "Eating_disorders                    -0.398118           0.994544   \n",
              "\n",
              "                         Bipolar_disorders  Eating_disorders  \n",
              "Year                             -0.992143          0.930962  \n",
              "Schizophrenia_disorders          -0.826256          0.964010  \n",
              "Depressive_disorders              0.684888         -0.398118  \n",
              "Anxiety_disorders                -0.846721          0.994544  \n",
              "Bipolar_disorders                 1.000000         -0.884087  \n",
              "Eating_disorders                 -0.884087          1.000000  "
            ]
          },
          "execution_count": 81,
          "metadata": {},
          "output_type": "execute_result"
        }
      ],
      "source": [
        "df2.corr()"
      ]
    },
    {
      "cell_type": "code",
      "execution_count": 82,
      "metadata": {
        "colab": {
          "base_uri": "https://localhost:8080/"
        },
        "id": "9r0vav2rKNY2",
        "outputId": "7251371c-b46d-48b4-ded4-a668a751f7c5"
      },
      "outputs": [
        {
          "data": {
            "image/png": "[encoded data removed]",
            "text/plain": [
              "<Figure size 1000x1000 with 2 Axes>"
            ]
          },
          "metadata": {},
          "output_type": "display_data"
        }
      ],
      "source": [
        "#correlation matrix graph\n",
        "\n",
        "df_correlation = df2.corr()\n",
        "\n",
        "fig, ax= plt.subplots(figsize=(10,10))\n",
        "\n",
        "ax= sns.heatmap(df_correlation, annot= True, linewidths= 2, cmap=\"YlGnBu\")"
      ]
    },
    {
      "cell_type": "markdown",
      "metadata": {
        "id": "eutTq8hAZRDc"
      },
      "source": [
        "#Modeling"
      ]
    },
    {
      "cell_type": "markdown",
      "metadata": {
        "id": "5zj-P6e-ZOnt"
      },
      "source": [
        "##Load dataset"
      ]
    },
    {
      "cell_type": "code",
      "execution_count": 83,
      "metadata": {
        "id": "N_rpoCL7CBYh"
      },
      "outputs": [],
      "source": [
        "x = df2[['Year']]\n",
        "y = df2[['Schizophrenia_disorders',\t'Depressive_disorders',\t'Anxiety_disorders',\t'Bipolar_disorders',\t'Eating_disorders']]"
      ]
    },
    {
      "cell_type": "markdown",
      "metadata": {
        "id": "S-IN3sHdSwrO"
      },
      "source": [
        "##spliting data"
      ]
    },
    {
      "cell_type": "code",
      "execution_count": 84,
      "metadata": {
        "colab": {
          "base_uri": "https://localhost:8080/"
        },
        "id": "1TePEAo9kFmS",
        "outputId": "ac52d9e6-1509-4d04-e700-f6d497f91f41"
      },
      "outputs": [
        {
          "name": "stdout",
          "output_type": "stream",
          "text": [
            "Shape of X_train : (21, 1)\n",
            "Shape of Y_train : (21, 5)\n",
            "Shape of X_test : (9, 1)\n",
            "Shape of Y_test : (9, 5)\n"
          ]
        }
      ],
      "source": [
        "\n",
        "#splitting the data\n",
        "from sklearn.model_selection import train_test_split\n",
        "x_train, x_test, y_train, y_test = train_test_split(x, y, test_size=0.3, random_state=0)\n",
        "\n",
        "#checking the shape\n",
        "print('Shape of X_train :', x_train.shape)\n",
        "print('Shape of Y_train :', y_train.shape)\n",
        "print('Shape of X_test :', x_test.shape)\n",
        "print('Shape of Y_test :', y_test.shape)\n",
        "\n",
        "#import regressor from scikit-learn\n",
        "from sklearn.ensemble import RandomForestRegressor\n",
        "\n",
        "rf = RandomForestRegressor(n_estimators=100, random_state=42)\n",
        "\n",
        "rf = rf.fit(x_train, y_train)\n",
        "\n",
        "Y_pred = rf.predict(x_test)"
      ]
    },
    {
      "cell_type": "code",
      "execution_count": 85,
      "metadata": {
        "colab": {
          "base_uri": "https://localhost:8080/"
        },
        "id": "L8ebvBbMYN01",
        "outputId": "2921a0d8-c0ef-44d1-943e-451523001bfa"
      },
      "outputs": [
        {
          "data": {
            "text/plain": [
              "array([[0.28220262, 2.41977114, 3.4062872 , 0.33100399, 0.08313746],\n",
              "       [0.29276651, 2.40247825, 3.53348997, 0.33062852, 0.10777486],\n",
              "       [0.284869  , 2.38857455, 3.42404733, 0.33079876, 0.08810287],\n",
              "       [0.28496725, 2.39224599, 3.42771834, 0.33085999, 0.08725102],\n",
              "       [0.29145546, 2.37705104, 3.51115389, 0.33065812, 0.10298961],\n",
              "       [0.29001632, 2.36972983, 3.49813651, 0.33067217, 0.10047423],\n",
              "       [0.29210303, 2.38507839, 3.51971453, 0.33064745, 0.10476821],\n",
              "       [0.28491747, 2.39052439, 3.42588992, 0.33082554, 0.08772319],\n",
              "       [0.28484067, 2.3763204 , 3.42884589, 0.33075001, 0.08976971]])"
            ]
          },
          "execution_count": 85,
          "metadata": {},
          "output_type": "execute_result"
        }
      ],
      "source": [
        "Y_pred"
      ]
    },
    {
      "cell_type": "markdown",
      "metadata": {
        "id": "E6LwqqUjMLED"
      },
      "source": [
        "#Evaluasi"
      ]
    },
    {
      "cell_type": "code",
      "execution_count": 86,
      "metadata": {
        "colab": {
          "base_uri": "https://localhost:8080/",
          "height": 524
        },
        "id": "KoDxzWinMO0W",
        "outputId": "a42d7f96-cfaf-40e3-cbbb-21387f6f19d4"
      },
      "outputs": [
        {
          "name": "stdout",
          "output_type": "stream",
          "text": [
            "Mean squared error of testing set: 2.8050065035170836e-05\n",
            "Root Mean Squeared error of testing set: 0.005296231210509114\n",
            "R-squared  of testing set: 0.8991588169157609\n"
          ]
        },
        {
          "data": {
            "image/png": "[encoded data removed]",
            "text/plain": [
              "<Figure size 640x480 with 1 Axes>"
            ]
          },
          "metadata": {},
          "output_type": "display_data"
        }
      ],
      "source": [
        "from sklearn.metrics import mean_squared_error, mean_absolute_error\n",
        "import numpy as np\n",
        "import matplotlib.pyplot as plt\n",
        "from sklearn.metrics import r2_score\n",
        "\n",
        "#calculating MSE, lower the value better it is. 0 means perfect prediction\n",
        "mse = mean_squared_error(y_test, Y_pred)\n",
        "print('Mean squared error of testing set:', mse)\n",
        "#calculating Rmse\n",
        "rmse = np.sqrt(mse)\n",
        "print('Root Mean Squeared error of testing set:', rmse)\n",
        "#calculating R2, higher value better. 1 means perfect prediction\n",
        "r2 = r2_score(y_test, Y_pred)\n",
        "print('R-squared  of testing set:', r2)\n",
        "\n",
        "#plotting y_test dan Y_pred\n",
        "plt.scatter(y_test.sort_index(), y_test, c = 'green')\n",
        "plt.scatter(y_test.sort_index(), Y_pred, c = 'red')\n",
        "plt.xlabel('nilai X')\n",
        "plt.ylabel('nilai Y')\n",
        "plt.title('Tahun vs Mental health Disorder')\n",
        "plt.show()"
      ]
    },
    {
      "cell_type": "code",
      "execution_count": 87,
      "metadata": {
        "id": "wbgb2z52P6dL"
      },
      "outputs": [],
      "source": [
        "import pickle\n",
        "pickle.dump(rf, open(\"modelrf1.pkl\", \"wb\"))\n",
        "\n",
        "time_series_model = pickle.load(open('modelrf1.pkl', 'rb'))"
      ]
    }
  ],
  "metadata": {
    "colab": {
      "collapsed_sections": [
        "yuEnrAt27OM_",
        "0jr_BBdSTBfz",
        "0ZkQqkZWAblm",
        "jW5Jsxl6UVWG",
        "sY37myDS_57E",
        "U_kn_xgDPfhJ",
        "4quTe80jLhTE",
        "eutTq8hAZRDc",
        "E6LwqqUjMLED"
      ],
      "provenance": []
    },
    "kernelspec": {
      "display_name": "Python 3",
      "name": "python3"
    },
    "language_info": {
      "codemirror_mode": {
        "name": "ipython",
        "version": 3
      },
      "file_extension": ".py",
      "mimetype": "text/x-python",
      "name": "python",
      "nbconvert_exporter": "python",
      "pygments_lexer": "ipython3",
      "version": "3.12.4"
    }
  },
  "nbformat": 4,
  "nbformat_minor": 0
}
